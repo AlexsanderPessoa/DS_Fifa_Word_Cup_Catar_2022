{
  "nbformat": 4,
  "nbformat_minor": 0,
  "metadata": {
    "colab": {
      "provenance": [],
      "authorship_tag": "ABX9TyNNn9Gopi0Y2JGcv6w5Lvq1",
      "include_colab_link": true
    },
    "kernelspec": {
      "name": "python3",
      "display_name": "Python 3"
    },
    "language_info": {
      "name": "python"
    }
  },
  "cells": [
    {
      "cell_type": "markdown",
      "metadata": {
        "id": "view-in-github",
        "colab_type": "text"
      },
      "source": [
        "<a href=\"https://colab.research.google.com/github/AlexsanderPessoa/DS_Fifa_Word_Cup_Catar_2022/blob/main/DS_Fifa_Word_Cup_Catar_2022.ipynb\" target=\"_parent\"><img src=\"https://colab.research.google.com/assets/colab-badge.svg\" alt=\"Open In Colab\"/></a>"
      ]
    },
    {
      "cell_type": "code",
      "source": [
        "import pandas as pd\n",
        "import numpy as np\n",
        "\n",
        "#estamos utilizando poisson, pois ela ajuda quando o problema é de contagem\n",
        "#Ex: quantas pessoas vão ligar no dia\n",
        "#Ex: quantos carros vai passar no pedágio ...\n",
        "from scipy.stats import poisson\n",
        "\n",
        "#index_col = 0, significa que estou substituindo o índice pela coluna 0, agora cada seleção é seu proprio índice\n",
        "selecoes = pd.read_excel('/content/DadosCopaDoMundoQatar2022.xlsx', sheet_name='selecoes', index_col = 0)\n",
        "\n",
        "jogos = pd.read_excel('/content/DadosCopaDoMundoQatar2022.xlsx', sheet_name='jogos')"
      ],
      "metadata": {
        "id": "6sHrkhLwc6uj"
      },
      "execution_count": 75,
      "outputs": []
    },
    {
      "cell_type": "code",
      "source": [
        "selecoes.head()"
      ],
      "metadata": {
        "colab": {
          "base_uri": "https://localhost:8080/",
          "height": 388
        },
        "id": "Ab1e6bKZC4rr",
        "outputId": "c75ec463-d433-4140-a5e2-ca305727a070"
      },
      "execution_count": 76,
      "outputs": [
        {
          "output_type": "execute_result",
          "data": {
            "text/plain": [
              "           Grupo GrupoNumero NomeEmIngles  PosiçãoRankingFIFA  ValorDeMercado  \\\n",
              "Seleção                                                                         \n",
              "Catar          A          A1        Qatar                  48           18.33   \n",
              "Equador        A          A2      Ecuador                  44          125.80   \n",
              "Senegal        A          A3      Senegal                  18          286.50   \n",
              "Holanda        A          A4  Netherlands                   8          455.75   \n",
              "Inglaterra     B          B1      England                   5         1360.00   \n",
              "\n",
              "            PontosRankingFIFA Confederação  Copas   JogadorDestaque  \\\n",
              "Seleção                                                               \n",
              "Catar                    1442          AFC      0        Almoez Ali   \n",
              "Equador                  1464         UEFA      0  Pervis Estupiñán   \n",
              "Senegal                  1585          CAF      0        Sadio Mané   \n",
              "Holanda                  1679         UEFA      0   Virgil Van Dijk   \n",
              "Inglaterra               1737         UEFA      1        Harry Kane   \n",
              "\n",
              "                                          FotoJogadorDestaque  \\\n",
              "Seleção                                                         \n",
              "Catar       https://github.com/ricardorocha86/PrevisaoEspo...   \n",
              "Equador     https://github.com/ricardorocha86/PrevisaoEspo...   \n",
              "Senegal     https://github.com/ricardorocha86/PrevisaoEspo...   \n",
              "Holanda     https://github.com/ricardorocha86/PrevisaoEspo...   \n",
              "Inglaterra  https://github.com/ricardorocha86/PrevisaoEspo...   \n",
              "\n",
              "                                          LinkBandeiraPequena  \\\n",
              "Seleção                                                         \n",
              "Catar       https://cloudinary.fifa.com/api/v3/picture/fla...   \n",
              "Equador     https://cloudinary.fifa.com/api/v3/picture/fla...   \n",
              "Senegal     https://cloudinary.fifa.com/api/v3/picture/fla...   \n",
              "Holanda     https://cloudinary.fifa.com/api/v3/picture/fla...   \n",
              "Inglaterra  https://cloudinary.fifa.com/api/v3/picture/fla...   \n",
              "\n",
              "                                           LinkBandeiraGrande  \n",
              "Seleção                                                        \n",
              "Catar       https://flagdownload.com/wp-content/uploads/Fl...  \n",
              "Equador     https://flagdownload.com/wp-content/uploads/Fl...  \n",
              "Senegal     https://flagdownload.com/wp-content/uploads/Fl...  \n",
              "Holanda     https://flagdownload.com/wp-content/uploads/Fl...  \n",
              "Inglaterra  https://flagdownload.com/wp-content/uploads/Fl...  "
            ],
            "text/html": [
              "\n",
              "  <div id=\"df-16cdcd41-a700-4a46-885f-e89e8bb91cb2\">\n",
              "    <div class=\"colab-df-container\">\n",
              "      <div>\n",
              "<style scoped>\n",
              "    .dataframe tbody tr th:only-of-type {\n",
              "        vertical-align: middle;\n",
              "    }\n",
              "\n",
              "    .dataframe tbody tr th {\n",
              "        vertical-align: top;\n",
              "    }\n",
              "\n",
              "    .dataframe thead th {\n",
              "        text-align: right;\n",
              "    }\n",
              "</style>\n",
              "<table border=\"1\" class=\"dataframe\">\n",
              "  <thead>\n",
              "    <tr style=\"text-align: right;\">\n",
              "      <th></th>\n",
              "      <th>Grupo</th>\n",
              "      <th>GrupoNumero</th>\n",
              "      <th>NomeEmIngles</th>\n",
              "      <th>PosiçãoRankingFIFA</th>\n",
              "      <th>ValorDeMercado</th>\n",
              "      <th>PontosRankingFIFA</th>\n",
              "      <th>Confederação</th>\n",
              "      <th>Copas</th>\n",
              "      <th>JogadorDestaque</th>\n",
              "      <th>FotoJogadorDestaque</th>\n",
              "      <th>LinkBandeiraPequena</th>\n",
              "      <th>LinkBandeiraGrande</th>\n",
              "    </tr>\n",
              "    <tr>\n",
              "      <th>Seleção</th>\n",
              "      <th></th>\n",
              "      <th></th>\n",
              "      <th></th>\n",
              "      <th></th>\n",
              "      <th></th>\n",
              "      <th></th>\n",
              "      <th></th>\n",
              "      <th></th>\n",
              "      <th></th>\n",
              "      <th></th>\n",
              "      <th></th>\n",
              "      <th></th>\n",
              "    </tr>\n",
              "  </thead>\n",
              "  <tbody>\n",
              "    <tr>\n",
              "      <th>Catar</th>\n",
              "      <td>A</td>\n",
              "      <td>A1</td>\n",
              "      <td>Qatar</td>\n",
              "      <td>48</td>\n",
              "      <td>18.33</td>\n",
              "      <td>1442</td>\n",
              "      <td>AFC</td>\n",
              "      <td>0</td>\n",
              "      <td>Almoez Ali</td>\n",
              "      <td>https://github.com/ricardorocha86/PrevisaoEspo...</td>\n",
              "      <td>https://cloudinary.fifa.com/api/v3/picture/fla...</td>\n",
              "      <td>https://flagdownload.com/wp-content/uploads/Fl...</td>\n",
              "    </tr>\n",
              "    <tr>\n",
              "      <th>Equador</th>\n",
              "      <td>A</td>\n",
              "      <td>A2</td>\n",
              "      <td>Ecuador</td>\n",
              "      <td>44</td>\n",
              "      <td>125.80</td>\n",
              "      <td>1464</td>\n",
              "      <td>UEFA</td>\n",
              "      <td>0</td>\n",
              "      <td>Pervis Estupiñán</td>\n",
              "      <td>https://github.com/ricardorocha86/PrevisaoEspo...</td>\n",
              "      <td>https://cloudinary.fifa.com/api/v3/picture/fla...</td>\n",
              "      <td>https://flagdownload.com/wp-content/uploads/Fl...</td>\n",
              "    </tr>\n",
              "    <tr>\n",
              "      <th>Senegal</th>\n",
              "      <td>A</td>\n",
              "      <td>A3</td>\n",
              "      <td>Senegal</td>\n",
              "      <td>18</td>\n",
              "      <td>286.50</td>\n",
              "      <td>1585</td>\n",
              "      <td>CAF</td>\n",
              "      <td>0</td>\n",
              "      <td>Sadio Mané</td>\n",
              "      <td>https://github.com/ricardorocha86/PrevisaoEspo...</td>\n",
              "      <td>https://cloudinary.fifa.com/api/v3/picture/fla...</td>\n",
              "      <td>https://flagdownload.com/wp-content/uploads/Fl...</td>\n",
              "    </tr>\n",
              "    <tr>\n",
              "      <th>Holanda</th>\n",
              "      <td>A</td>\n",
              "      <td>A4</td>\n",
              "      <td>Netherlands</td>\n",
              "      <td>8</td>\n",
              "      <td>455.75</td>\n",
              "      <td>1679</td>\n",
              "      <td>UEFA</td>\n",
              "      <td>0</td>\n",
              "      <td>Virgil Van Dijk</td>\n",
              "      <td>https://github.com/ricardorocha86/PrevisaoEspo...</td>\n",
              "      <td>https://cloudinary.fifa.com/api/v3/picture/fla...</td>\n",
              "      <td>https://flagdownload.com/wp-content/uploads/Fl...</td>\n",
              "    </tr>\n",
              "    <tr>\n",
              "      <th>Inglaterra</th>\n",
              "      <td>B</td>\n",
              "      <td>B1</td>\n",
              "      <td>England</td>\n",
              "      <td>5</td>\n",
              "      <td>1360.00</td>\n",
              "      <td>1737</td>\n",
              "      <td>UEFA</td>\n",
              "      <td>1</td>\n",
              "      <td>Harry Kane</td>\n",
              "      <td>https://github.com/ricardorocha86/PrevisaoEspo...</td>\n",
              "      <td>https://cloudinary.fifa.com/api/v3/picture/fla...</td>\n",
              "      <td>https://flagdownload.com/wp-content/uploads/Fl...</td>\n",
              "    </tr>\n",
              "  </tbody>\n",
              "</table>\n",
              "</div>\n",
              "      <button class=\"colab-df-convert\" onclick=\"convertToInteractive('df-16cdcd41-a700-4a46-885f-e89e8bb91cb2')\"\n",
              "              title=\"Convert this dataframe to an interactive table.\"\n",
              "              style=\"display:none;\">\n",
              "        \n",
              "  <svg xmlns=\"http://www.w3.org/2000/svg\" height=\"24px\"viewBox=\"0 0 24 24\"\n",
              "       width=\"24px\">\n",
              "    <path d=\"M0 0h24v24H0V0z\" fill=\"none\"/>\n",
              "    <path d=\"M18.56 5.44l.94 2.06.94-2.06 2.06-.94-2.06-.94-.94-2.06-.94 2.06-2.06.94zm-11 1L8.5 8.5l.94-2.06 2.06-.94-2.06-.94L8.5 2.5l-.94 2.06-2.06.94zm10 10l.94 2.06.94-2.06 2.06-.94-2.06-.94-.94-2.06-.94 2.06-2.06.94z\"/><path d=\"M17.41 7.96l-1.37-1.37c-.4-.4-.92-.59-1.43-.59-.52 0-1.04.2-1.43.59L10.3 9.45l-7.72 7.72c-.78.78-.78 2.05 0 2.83L4 21.41c.39.39.9.59 1.41.59.51 0 1.02-.2 1.41-.59l7.78-7.78 2.81-2.81c.8-.78.8-2.07 0-2.86zM5.41 20L4 18.59l7.72-7.72 1.47 1.35L5.41 20z\"/>\n",
              "  </svg>\n",
              "      </button>\n",
              "      \n",
              "  <style>\n",
              "    .colab-df-container {\n",
              "      display:flex;\n",
              "      flex-wrap:wrap;\n",
              "      gap: 12px;\n",
              "    }\n",
              "\n",
              "    .colab-df-convert {\n",
              "      background-color: #E8F0FE;\n",
              "      border: none;\n",
              "      border-radius: 50%;\n",
              "      cursor: pointer;\n",
              "      display: none;\n",
              "      fill: #1967D2;\n",
              "      height: 32px;\n",
              "      padding: 0 0 0 0;\n",
              "      width: 32px;\n",
              "    }\n",
              "\n",
              "    .colab-df-convert:hover {\n",
              "      background-color: #E2EBFA;\n",
              "      box-shadow: 0px 1px 2px rgba(60, 64, 67, 0.3), 0px 1px 3px 1px rgba(60, 64, 67, 0.15);\n",
              "      fill: #174EA6;\n",
              "    }\n",
              "\n",
              "    [theme=dark] .colab-df-convert {\n",
              "      background-color: #3B4455;\n",
              "      fill: #D2E3FC;\n",
              "    }\n",
              "\n",
              "    [theme=dark] .colab-df-convert:hover {\n",
              "      background-color: #434B5C;\n",
              "      box-shadow: 0px 1px 3px 1px rgba(0, 0, 0, 0.15);\n",
              "      filter: drop-shadow(0px 1px 2px rgba(0, 0, 0, 0.3));\n",
              "      fill: #FFFFFF;\n",
              "    }\n",
              "  </style>\n",
              "\n",
              "      <script>\n",
              "        const buttonEl =\n",
              "          document.querySelector('#df-16cdcd41-a700-4a46-885f-e89e8bb91cb2 button.colab-df-convert');\n",
              "        buttonEl.style.display =\n",
              "          google.colab.kernel.accessAllowed ? 'block' : 'none';\n",
              "\n",
              "        async function convertToInteractive(key) {\n",
              "          const element = document.querySelector('#df-16cdcd41-a700-4a46-885f-e89e8bb91cb2');\n",
              "          const dataTable =\n",
              "            await google.colab.kernel.invokeFunction('convertToInteractive',\n",
              "                                                     [key], {});\n",
              "          if (!dataTable) return;\n",
              "\n",
              "          const docLinkHtml = 'Like what you see? Visit the ' +\n",
              "            '<a target=\"_blank\" href=https://colab.research.google.com/notebooks/data_table.ipynb>data table notebook</a>'\n",
              "            + ' to learn more about interactive tables.';\n",
              "          element.innerHTML = '';\n",
              "          dataTable['output_type'] = 'display_data';\n",
              "          await google.colab.output.renderOutput(dataTable, element);\n",
              "          const docLink = document.createElement('div');\n",
              "          docLink.innerHTML = docLinkHtml;\n",
              "          element.appendChild(docLink);\n",
              "        }\n",
              "      </script>\n",
              "    </div>\n",
              "  </div>\n",
              "  "
            ]
          },
          "metadata": {},
          "execution_count": 76
        }
      ]
    },
    {
      "cell_type": "code",
      "source": [
        "jogos.head()"
      ],
      "metadata": {
        "colab": {
          "base_uri": "https://localhost:8080/",
          "height": 206
        },
        "id": "9Faav3DdC6K8",
        "outputId": "adcc3ca8-32d8-400a-a43d-2a910108fc03"
      },
      "execution_count": 77,
      "outputs": [
        {
          "output_type": "execute_result",
          "data": {
            "text/plain": [
              "        data      hora grupo seleção1 seleção2         estádio\n",
              "0 2022-11-21  07:00:00     A  Senegal  Holanda      AL THUMAMA\n",
              "1 2022-11-21  13:00:00     A    Catar  Equador         AL KHOR\n",
              "2 2022-11-25  10:00:00     A    Catar  Senegal      AL THUMAMA\n",
              "3 2022-11-25  13:00:00     A  Holanda  Equador  INTER. KHALIFA\n",
              "4 2022-11-29  12:00:00     A  Holanda    Catar         AL KHOR"
            ],
            "text/html": [
              "\n",
              "  <div id=\"df-7ccfad62-5eb3-43c3-a6b8-2716357a5ba7\">\n",
              "    <div class=\"colab-df-container\">\n",
              "      <div>\n",
              "<style scoped>\n",
              "    .dataframe tbody tr th:only-of-type {\n",
              "        vertical-align: middle;\n",
              "    }\n",
              "\n",
              "    .dataframe tbody tr th {\n",
              "        vertical-align: top;\n",
              "    }\n",
              "\n",
              "    .dataframe thead th {\n",
              "        text-align: right;\n",
              "    }\n",
              "</style>\n",
              "<table border=\"1\" class=\"dataframe\">\n",
              "  <thead>\n",
              "    <tr style=\"text-align: right;\">\n",
              "      <th></th>\n",
              "      <th>data</th>\n",
              "      <th>hora</th>\n",
              "      <th>grupo</th>\n",
              "      <th>seleção1</th>\n",
              "      <th>seleção2</th>\n",
              "      <th>estádio</th>\n",
              "    </tr>\n",
              "  </thead>\n",
              "  <tbody>\n",
              "    <tr>\n",
              "      <th>0</th>\n",
              "      <td>2022-11-21</td>\n",
              "      <td>07:00:00</td>\n",
              "      <td>A</td>\n",
              "      <td>Senegal</td>\n",
              "      <td>Holanda</td>\n",
              "      <td>AL THUMAMA</td>\n",
              "    </tr>\n",
              "    <tr>\n",
              "      <th>1</th>\n",
              "      <td>2022-11-21</td>\n",
              "      <td>13:00:00</td>\n",
              "      <td>A</td>\n",
              "      <td>Catar</td>\n",
              "      <td>Equador</td>\n",
              "      <td>AL KHOR</td>\n",
              "    </tr>\n",
              "    <tr>\n",
              "      <th>2</th>\n",
              "      <td>2022-11-25</td>\n",
              "      <td>10:00:00</td>\n",
              "      <td>A</td>\n",
              "      <td>Catar</td>\n",
              "      <td>Senegal</td>\n",
              "      <td>AL THUMAMA</td>\n",
              "    </tr>\n",
              "    <tr>\n",
              "      <th>3</th>\n",
              "      <td>2022-11-25</td>\n",
              "      <td>13:00:00</td>\n",
              "      <td>A</td>\n",
              "      <td>Holanda</td>\n",
              "      <td>Equador</td>\n",
              "      <td>INTER. KHALIFA</td>\n",
              "    </tr>\n",
              "    <tr>\n",
              "      <th>4</th>\n",
              "      <td>2022-11-29</td>\n",
              "      <td>12:00:00</td>\n",
              "      <td>A</td>\n",
              "      <td>Holanda</td>\n",
              "      <td>Catar</td>\n",
              "      <td>AL KHOR</td>\n",
              "    </tr>\n",
              "  </tbody>\n",
              "</table>\n",
              "</div>\n",
              "      <button class=\"colab-df-convert\" onclick=\"convertToInteractive('df-7ccfad62-5eb3-43c3-a6b8-2716357a5ba7')\"\n",
              "              title=\"Convert this dataframe to an interactive table.\"\n",
              "              style=\"display:none;\">\n",
              "        \n",
              "  <svg xmlns=\"http://www.w3.org/2000/svg\" height=\"24px\"viewBox=\"0 0 24 24\"\n",
              "       width=\"24px\">\n",
              "    <path d=\"M0 0h24v24H0V0z\" fill=\"none\"/>\n",
              "    <path d=\"M18.56 5.44l.94 2.06.94-2.06 2.06-.94-2.06-.94-.94-2.06-.94 2.06-2.06.94zm-11 1L8.5 8.5l.94-2.06 2.06-.94-2.06-.94L8.5 2.5l-.94 2.06-2.06.94zm10 10l.94 2.06.94-2.06 2.06-.94-2.06-.94-.94-2.06-.94 2.06-2.06.94z\"/><path d=\"M17.41 7.96l-1.37-1.37c-.4-.4-.92-.59-1.43-.59-.52 0-1.04.2-1.43.59L10.3 9.45l-7.72 7.72c-.78.78-.78 2.05 0 2.83L4 21.41c.39.39.9.59 1.41.59.51 0 1.02-.2 1.41-.59l7.78-7.78 2.81-2.81c.8-.78.8-2.07 0-2.86zM5.41 20L4 18.59l7.72-7.72 1.47 1.35L5.41 20z\"/>\n",
              "  </svg>\n",
              "      </button>\n",
              "      \n",
              "  <style>\n",
              "    .colab-df-container {\n",
              "      display:flex;\n",
              "      flex-wrap:wrap;\n",
              "      gap: 12px;\n",
              "    }\n",
              "\n",
              "    .colab-df-convert {\n",
              "      background-color: #E8F0FE;\n",
              "      border: none;\n",
              "      border-radius: 50%;\n",
              "      cursor: pointer;\n",
              "      display: none;\n",
              "      fill: #1967D2;\n",
              "      height: 32px;\n",
              "      padding: 0 0 0 0;\n",
              "      width: 32px;\n",
              "    }\n",
              "\n",
              "    .colab-df-convert:hover {\n",
              "      background-color: #E2EBFA;\n",
              "      box-shadow: 0px 1px 2px rgba(60, 64, 67, 0.3), 0px 1px 3px 1px rgba(60, 64, 67, 0.15);\n",
              "      fill: #174EA6;\n",
              "    }\n",
              "\n",
              "    [theme=dark] .colab-df-convert {\n",
              "      background-color: #3B4455;\n",
              "      fill: #D2E3FC;\n",
              "    }\n",
              "\n",
              "    [theme=dark] .colab-df-convert:hover {\n",
              "      background-color: #434B5C;\n",
              "      box-shadow: 0px 1px 3px 1px rgba(0, 0, 0, 0.15);\n",
              "      filter: drop-shadow(0px 1px 2px rgba(0, 0, 0, 0.3));\n",
              "      fill: #FFFFFF;\n",
              "    }\n",
              "  </style>\n",
              "\n",
              "      <script>\n",
              "        const buttonEl =\n",
              "          document.querySelector('#df-7ccfad62-5eb3-43c3-a6b8-2716357a5ba7 button.colab-df-convert');\n",
              "        buttonEl.style.display =\n",
              "          google.colab.kernel.accessAllowed ? 'block' : 'none';\n",
              "\n",
              "        async function convertToInteractive(key) {\n",
              "          const element = document.querySelector('#df-7ccfad62-5eb3-43c3-a6b8-2716357a5ba7');\n",
              "          const dataTable =\n",
              "            await google.colab.kernel.invokeFunction('convertToInteractive',\n",
              "                                                     [key], {});\n",
              "          if (!dataTable) return;\n",
              "\n",
              "          const docLinkHtml = 'Like what you see? Visit the ' +\n",
              "            '<a target=\"_blank\" href=https://colab.research.google.com/notebooks/data_table.ipynb>data table notebook</a>'\n",
              "            + ' to learn more about interactive tables.';\n",
              "          element.innerHTML = '';\n",
              "          dataTable['output_type'] = 'display_data';\n",
              "          await google.colab.output.renderOutput(dataTable, element);\n",
              "          const docLink = document.createElement('div');\n",
              "          docLink.innerHTML = docLinkHtml;\n",
              "          element.appendChild(docLink);\n",
              "        }\n",
              "      </script>\n",
              "    </div>\n",
              "  </div>\n",
              "  "
            ]
          },
          "metadata": {},
          "execution_count": 77
        }
      ]
    },
    {
      "cell_type": "code",
      "source": [
        "# simulando uma partida\n",
        "# no size é o tamanho de partidas que quero simular\n",
        "# (lam) O número esperado de eventos ocorrendo em um intervalo de tempo fixo deve ser >= 0. Uma sequência deve ser difundida no tamanho solicitado.\n",
        "np.random.poisson(lam = 1, size = 1)\n",
        "\n",
        "# o resultado refere-se que se eu tivesse simulado os gols de uma equipe em uma partida, na qual a equipe tem em média de um gol por partida\n",
        "# o resultado é o numero de gols"
      ],
      "metadata": {
        "colab": {
          "base_uri": "https://localhost:8080/"
        },
        "id": "dygl5eNAEp1m",
        "outputId": "fadb37e1-4fe7-470a-fb7d-bf41a081972b"
      },
      "execution_count": 78,
      "outputs": [
        {
          "output_type": "execute_result",
          "data": {
            "text/plain": [
              "array([1])"
            ]
          },
          "metadata": {},
          "execution_count": 78
        }
      ]
    },
    {
      "cell_type": "code",
      "source": [
        "# estou pegando o peso de cada seleção\n",
        "fifa = selecoes['PontosRankingFIFA']\n",
        "\n",
        "#entretanto preciso fazer uma transformação relacionado com as médias\n",
        "a,b = min(fifa), max(fifa)\n",
        "\n",
        "# fa e fa são os novos valores, o python vai fazer que os valores dos raking fique entre esses valores\n",
        "# transformação linear de escala numerica\n",
        "# 0,15 porque eu quero que o melhor seja no máximo 7x melhor\n",
        "fa, fb = 0.15, 1\n",
        "\n",
        "b1 = (fb - fa)/(b-a)\n",
        "b0 = fb - b*b1\n",
        "forca = b0 + b1*fifa\n",
        "\n",
        "forca"
      ],
      "metadata": {
        "colab": {
          "base_uri": "https://localhost:8080/"
        },
        "id": "fgwLhmfS-SWK",
        "outputId": "448d575f-c2c7-420a-e845-ad76fe08667f"
      },
      "execution_count": 79,
      "outputs": [
        {
          "output_type": "execute_result",
          "data": {
            "text/plain": [
              "Seleção\n",
              "Catar             0.243596\n",
              "Equador           0.285618\n",
              "Senegal           0.516742\n",
              "Holanda           0.696292\n",
              "Inglaterra        0.807079\n",
              "Irã               0.467079\n",
              "Estados Unidos    0.612247\n",
              "País de Gales     0.511011\n",
              "Argentina         0.872022\n",
              "Arábia Saudita    0.232135\n",
              "México            0.640899\n",
              "Polônia           0.442247\n",
              "França            0.860562\n",
              "Dinamarca         0.669551\n",
              "Tunísia           0.369663\n",
              "Austrália         0.323820\n",
              "Espanha           0.768876\n",
              "Alemanha          0.658090\n",
              "Japão             0.459438\n",
              "Costa Rica        0.354382\n",
              "Bélgica           0.969438\n",
              "Canadá            0.304719\n",
              "Marrocos          0.465169\n",
              "Croácia           0.606517\n",
              "Brasil            1.000000\n",
              "Sérvia            0.449888\n",
              "Suíça             0.585506\n",
              "Camarões          0.325730\n",
              "Portugal          0.696292\n",
              "Gana              0.150000\n",
              "Uruguai           0.623708\n",
              "Coreia do Sul     0.404045\n",
              "Name: PontosRankingFIFA, dtype: float64"
            ]
          },
          "metadata": {},
          "execution_count": 79
        }
      ]
    },
    {
      "cell_type": "code",
      "source": [
        "def MediasPoisson(selecao1, selecao2):\n",
        "    forca1 = forca[selecao1]\n",
        "    forca2 = forca[selecao2]\n",
        "\n",
        "    #definimos a média de gols como 2.75\n",
        "    mgols = 2.75\n",
        "\n",
        "    l1 = mgols*forca1/(forca1 + forca2)\n",
        "    l2 = mgols - l1\n",
        "\n",
        "    #l1 e l2 são as médias de cada selecao, vai me retornar dentro de uma lista\n",
        "    return [l1, l2]\n",
        "\n",
        "# funcao resultados, vitória, empate ou derrota\n",
        "def Resultado(gols1, gols2):\n",
        "    if gols1 > gols2:\n",
        "        resultado = 'V'\n",
        "    elif gols1 < gols2:\n",
        "        resultado = 'D'\n",
        "    else:\n",
        "        resultado = 'E'\n",
        "    return resultado\n",
        "\n",
        "\n",
        "    #calculado os pontos\n",
        "def Pontos(gols1, gols2):\n",
        "    resultado = Resultado(gols1, gols2)\n",
        "    if resultado == 'V':\n",
        "        pontos1, pontos2 = 3, 0\n",
        "    elif resultado == 'D':\n",
        "        pontos1, pontos2 = 0, 3\n",
        "    else: pontos1, pontos2 = 1, 1\n",
        "    return [pontos1, pontos2, resultado]\n"
      ],
      "metadata": {
        "id": "MvypquXEAdJm"
      },
      "execution_count": 80,
      "outputs": []
    },
    {
      "cell_type": "code",
      "source": [
        "Resultado(1, 2)"
      ],
      "metadata": {
        "colab": {
          "base_uri": "https://localhost:8080/",
          "height": 36
        },
        "id": "jRLhH4K7EyNP",
        "outputId": "b14a4f8f-9748-43d4-c2f0-48928e333d6e"
      },
      "execution_count": 81,
      "outputs": [
        {
          "output_type": "execute_result",
          "data": {
            "text/plain": [
              "'D'"
            ],
            "application/vnd.google.colaboratory.intrinsic+json": {
              "type": "string"
            }
          },
          "metadata": {},
          "execution_count": 81
        }
      ]
    },
    {
      "cell_type": "code",
      "source": [
        "MediasPoisson('Brasil', 'França')"
      ],
      "metadata": {
        "colab": {
          "base_uri": "https://localhost:8080/"
        },
        "id": "HhlDW81OCz9Q",
        "outputId": "45e0fc5d-7dda-4d68-c9a6-80e7bb4f5ed5"
      },
      "execution_count": 82,
      "outputs": [
        {
          "output_type": "execute_result",
          "data": {
            "text/plain": [
              "[1.478048191315901, 1.271951808684099]"
            ]
          },
          "metadata": {},
          "execution_count": 82
        }
      ]
    },
    {
      "cell_type": "code",
      "source": [
        "def Jogo(selecao1, selecao2):\n",
        "    l1, l2 = MediasPoisson(selecao1, selecao2) \n",
        "\n",
        "    # gols do time 1\n",
        "    gols1 = int(np.random.poisson(lam = l1, size = 1))\n",
        "\n",
        "    # gols do time 2\n",
        "    gols2 = int(np.random.poisson(lam = l2, size = 1))\n",
        "\n",
        "    saldo1 = gols1 - gols2\n",
        "    saldo2 = -saldo1\n",
        "    pontos1, pontos2, resultado = Pontos(gols1, gols2)\n",
        "    placar = '{}x{}'.format(gols1, gols2)\n",
        "    \n",
        "    return [gols1, gols2, saldo1, saldo2, pontos1, pontos2, resultado, placar]"
      ],
      "metadata": {
        "id": "Cr6PmvtIEnft"
      },
      "execution_count": 85,
      "outputs": []
    },
    {
      "cell_type": "code",
      "source": [
        "# pmf probabilty master function\n",
        "# são valores que calculam os valores da função de poisson, para dada uma média e gols\n",
        "# qual seria a probaalidade de fazer zero gols em uma média de dois gols (poisson.pmf(0, 2))\n",
        "def Distribuicao(media):\n",
        "    probs = []\n",
        "    #até 7 por causa da alemanha e brasil\n",
        "    for i in range(7):\n",
        "        probs.append(poisson.pmf(i,media))\n",
        "    # 1 menos tudo que faltou\n",
        "    probs.append(1-sum(probs))\n",
        "    return pd.Series(probs, index = ['0', '1', '2', '3', '4', '5', '6', '7+'])"
      ],
      "metadata": {
        "id": "_UzC45OXEp8j"
      },
      "execution_count": 97,
      "outputs": []
    },
    {
      "cell_type": "code",
      "source": [
        "Distribuicao(2.75)"
      ],
      "metadata": {
        "id": "gZPCQda3EqCp",
        "colab": {
          "base_uri": "https://localhost:8080/"
        },
        "outputId": "0ac49661-b71a-4e43-d93d-7f607b30f183"
      },
      "execution_count": 99,
      "outputs": [
        {
          "output_type": "execute_result",
          "data": {
            "text/plain": [
              "0     0.063928\n",
              "1     0.175802\n",
              "2     0.241727\n",
              "3     0.221583\n",
              "4     0.152339\n",
              "5     0.083786\n",
              "6     0.038402\n",
              "7+    0.022433\n",
              "dtype: float64"
            ]
          },
          "metadata": {},
          "execution_count": 99
        }
      ]
    },
    {
      "cell_type": "code",
      "source": [],
      "metadata": {
        "id": "5FDdBZnzEqK6"
      },
      "execution_count": 84,
      "outputs": []
    }
  ]
}